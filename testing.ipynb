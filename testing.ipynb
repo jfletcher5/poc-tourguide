{
 "cells": [
  {
   "cell_type": "code",
   "execution_count": 3,
   "metadata": {},
   "outputs": [
    {
     "data": {
      "text/plain": [
       "AIMessage(content='I am a language model AI created by OpenAI. I am here to assist you with any questions or tasks you may have. How can I help you today?', response_metadata={'token_usage': {'completion_tokens': 33, 'prompt_tokens': 10, 'total_tokens': 43}, 'model_name': 'gpt-3.5-turbo', 'system_fingerprint': None, 'finish_reason': 'stop', 'logprobs': None}, id='run-8e68d142-4245-4509-a3c1-387256e71938-0', usage_metadata={'input_tokens': 10, 'output_tokens': 33, 'total_tokens': 43})"
      ]
     },
     "execution_count": 3,
     "metadata": {},
     "output_type": "execute_result"
    }
   ],
   "source": [
    "import dotenv\n",
    "from chat_services.llms.chaopenai import build_llm\n",
    "from chat_services import ChatArgs\n",
    "\n",
    "dotenv.load_dotenv()\n",
    "\n",
    "# Define test chat arguments\n",
    "chat_args = ChatArgs(\n",
    "    conversation_id=\"560dde47-8079-4dc2-b902-70ec11a74b44\",\n",
    "    file_path=\"./tours/Boston Common - Wikipedia.pdf\",\n",
    "    tourID=\"24352fcc-cecd-45e0-821d-105437274172\", #this tour is for the boston common wiki 24352fcc-cecd-45e0-821d-105437274172\n",
    "    metadata={\n",
    "        \"conversation_id\": \"560dde47-8079-4dc2-b902-70ec11a74b44\",\n",
    "        \"user_id\": \"123\",\n",
    "        \"tourID\": \"24352fcc-cecd-45e0-821d-105437274172\"\n",
    "    },\n",
    "    streaming=False,\n",
    "    k=10, # returns number of docs from vstore\n",
    "    score_threshold=0.8\n",
    ")\n",
    "\n",
    "dotenv.load_dotenv()\n",
    "llm = build_llm(chat_args)\n",
    "\n",
    "# llm.invoke(\"who are you\")"
   ]
  },
  {
   "cell_type": "code",
   "execution_count": 8,
   "metadata": {},
   "outputs": [
    {
     "name": "stdout",
     "output_type": "stream",
     "text": [
      "[Document(page_content='11/3/23, 8:57 AM Boston Common - Wikipedia\\nhttps://en.wikipedia.org/wiki/Boston_Common 6/9\\nThe Massachusetts State House\\noverlooks part of the Common\\nThe Frog Pond \\nParkman Bandstand \\nMassachusetts State\\nHouse/Massachusetts\\nStatehouse (\"New\" State\\nHouse)\\nBoylston station \\nBoston Common \\nAerial view of Parkman\\nBandstand\\nThe Massachusetts State House  stands across Beacon\\nStreet from the northern edge of the Common. The Boston Public Garden , a more formal landscaped park,\\nlies to the west of the Common across Charles Street (and\\nwas originally considered an extension of the Common).', metadata={'filename': './tours/Boston Common - Wikipedia.pdf', 'label': '24352fcc-cecd-45e0-821d-105437274172', 'page': 5.0}), Document(page_content='11/3/23, 8:57 AM Boston Common - Wikipedia\\nhttps://en.wikipedia.org/wiki/Boston_Common 4/9\\nBoston Street Scene\\n(Boston Common),\\nEdward Mitchell\\nBannister, a depiction of\\nthe street and Boston\\nCommon area in 1898–\\n99\\nExecution of Ann\\nHibbins on Boston\\nCommon, on\\ncharges of\\nwitchcraft, June 19,\\n1656. Sketch by F.T. Merril, 1886\\nBoston Common in the fall of 2016resulted in the portions of the two parks being \"a moist\\nstew that reeked and that was a mess to walk over\" and\\ndriving visitors away from these areas, but the cost of\\nrepair prevented the work from being undertaken. This\\nfinally changed in the summer of 1895, when the\\nrequired quantity of soil was made available as a result\\nof the excavation of the Tremont Street subway  which\\nwas used to regrade the Charles Street sides of Boston\\nCommon and the Public Garden.[23]\\nA hundred people gathered on the Common in early\\n1965 to protest the Vietnam War . A second protest\\nhappened on October 15, 1969, this time with 100,000\\npeople protesting in the Moratorium to End the War in\\nVietnam .[24][25]\\nThe Com mon was declared a National Historic\\nLandmark in 1987.[1][3] It is managed by the Boston\\nPark Department and cared for by Friends of the Public\\nGarden , a private advoca cy group which also provides\\nadditional fundin g for maintenance and special\\nevents.[26]\\nThe Bosto n Comm on Frog Pond sits at the heart of the Common\\nand is managed by the Skating Club of Boston  in partnership\\nwith the City of Boston.[27] Frog Pond is hom e to a winter ice\\nskating rink and learn-to-skate school, a reflecting pool in the\\nspring and fall, and a summer spray pool and children\\'s\\ncarousel. The softball fields lie in the southwe st corner of the Common.', metadata={'filename': './tours/Boston Common - Wikipedia.pdf', 'label': '24352fcc-cecd-45e0-821d-105437274172', 'page': 3.0}), Document(page_content='11/3/23, 8:57 AM Boston Common - Wikipedia\\nhttps://en.wikipedia.org/wiki/Boston_Common 1/9Boston Common\\nAerial view of Boston Common in\\nDowntown Boston, June 2017\\nType Public park\\nLocation Boston,\\nMassachusetts\\nArea 50 acres\\n(200,000\\xa0m2)[ 1 ]\\nOpened 1634\\nDesigner Multiple,\\nincluding\\nAugustus St. Gaudens\\nU.S. National Register of Historic\\nPlaces\\nU.S. National Historic Landmark District\\nBoston Commo n\\nThe Boston Commo n (also known as the Common ) is a\\npublic park in downtown Boston , Massachusetts . It is the\\noldest city park in the United States.[4] Boston Common\\nconsists of 50 acre s (20\\xa0ha) of land bounded by Tremont Street\\n(139 Tremont St.), Park Street , Beacon Street , Charles Street ,\\nand Boylston Street . The Common is part of the Emerald Necklace  of parks  and\\nparkways that extend from the Common south to Franklin\\nPark  in Jamaica Plain , Roxbury , and Dorchester . The visitors\\'\\ncenter for the city of Boston is located on the Tremont Street\\nside of the park. The Central Burying Ground  is on the Boylston Street side of\\nBoston Common and contains the graves of artist Gilbert\\nStuart  and composer William Billings . Also buried there are\\nSamuel Sprague and his son Charles Sprague , one of America\\'s\\nearliest poets. Samuel Sprague was a participant in the Boston\\nTea Party  and fought in the Revolutionary War . The Common\\nwas designated as a Boston Landmark by the Boston\\nLandmarks Commission  in 1977.[5]\\nThe Common is sometimes erroneously referred to as the\\n\"Boston Commons\".[6][7] This  stems from its use as a town\\ncommons  starting in 1634. William Blaxton  was the first Euro pean owner of the land.', metadata={'filename': './tours/Boston Common - Wikipedia.pdf', 'label': '24352fcc-cecd-45e0-821d-105437274172', 'page': 0.0}), Document(page_content='4. \"Boston Common\"  (http://www .celebrateboston.com/sites/boston-common.htm) . CelebrateBoston.com. 2006 . Retrieved March 26,  2011. 5. City of Boston. \"Boston Common Study Report, Boston Landmarks Commission\"  (https://www .city\\nofboston.gov/images_documents/Boston_Common_Study_Report_4_tcm3-32547.pdf)  (PDF) . 6. \"Boston Common\"  (http://www .cityofboston.gov/freedomtrail/bostoncommon.asp) . City of Boston . Retrieved November 9,  2011. 7. \"Place Names: Boston English\"  (http://www .universalhub.com/glossary/wickedpn.html) . Adam\\nGafﬁn and by content posters . Retrieved November 9,  2011.', metadata={'filename': './tours/Boston Common - Wikipedia.pdf', 'label': '24352fcc-cecd-45e0-821d-105437274172', 'page': 6.0})]\n"
     ]
    }
   ],
   "source": [
    "\n",
    "from chat_services.vector_stores.pinecone import vector_store\n",
    "\n",
    "retriever = vector_store.as_retriever()\n",
    "results = vector_store.as_retriever().invoke(\"Boston Common\")\n",
    "\n",
    "print(results)"
   ]
  },
  {
   "cell_type": "code",
   "execution_count": 7,
   "metadata": {},
   "outputs": [],
   "source": [
    "from langchain.chains import create_history_aware_retriever\n",
    "from langchain_core.prompts import MessagesPlaceholder, ChatPromptTemplate\n",
    "\n",
    "contextualize_q_system_prompt = (\n",
    "    \"Given a chat history and the latest user question \"\n",
    "    \"which might reference context in the chat history, \"\n",
    "    \"formulate a standalone question which can be understood \"\n",
    "    \"without the chat history. Do NOT answer the question, \"\n",
    "    \"just reformulate it if needed and otherwise return it as is.\"\n",
    ")\n",
    "\n",
    "contextualize_q_prompt = ChatPromptTemplate.from_messages(\n",
    "    [\n",
    "        (\"system\", contextualize_q_system_prompt),\n",
    "        MessagesPlaceholder(\"chat_history\"),\n",
    "        (\"human\", \"{input}\"),\n",
    "    ]\n",
    ")"
   ]
  },
  {
   "cell_type": "code",
   "execution_count": 9,
   "metadata": {},
   "outputs": [],
   "source": [
    "history_aware_retriever = create_history_aware_retriever(\n",
    "    llm, retriever, contextualize_q_prompt\n",
    ")"
   ]
  },
  {
   "cell_type": "code",
   "execution_count": 12,
   "metadata": {},
   "outputs": [],
   "source": [
    "from langchain.chains.combine_documents import create_stuff_documents_chain\n",
    "from langchain.chains import create_retrieval_chain\n",
    "\n",
    "\n",
    "system_prompt = (\n",
    "    \"You are an assistant for question-answering tasks. \"\n",
    "    \"Use the following pieces of retrieved context to answer \"\n",
    "    \"the question. If you don't know the answer, say that you \"\n",
    "    \"don't know. Use three sentences maximum and keep the \"\n",
    "    \"answer concise.\"\n",
    "    \"\\n\\n\"\n",
    "    \"{context}\"\n",
    ")\n",
    "qa_prompt = ChatPromptTemplate.from_messages(\n",
    "    [\n",
    "        (\"system\", system_prompt),\n",
    "        MessagesPlaceholder(\"chat_history\"),\n",
    "        (\"human\", \"{input}\"),\n",
    "    ]\n",
    ")\n",
    "question_answer_chain = create_stuff_documents_chain(llm, qa_prompt)\n",
    "\n",
    "rag_chain = create_retrieval_chain(history_aware_retriever, question_answer_chain)\n"
   ]
  },
  {
   "cell_type": "code",
   "execution_count": 13,
   "metadata": {},
   "outputs": [],
   "source": [
    "from langchain_community.chat_message_histories import ChatMessageHistory\n",
    "from langchain_core.chat_history import BaseChatMessageHistory\n",
    "from langchain_core.runnables.history import RunnableWithMessageHistory\n",
    "\n",
    "store = {}\n",
    "\n",
    "\n",
    "def get_session_history(session_id: str) -> BaseChatMessageHistory:\n",
    "    if session_id not in store:\n",
    "        store[session_id] = ChatMessageHistory()\n",
    "    return store[session_id]\n",
    "\n",
    "\n",
    "conversational_rag_chain = RunnableWithMessageHistory(\n",
    "    rag_chain,\n",
    "    get_session_history,\n",
    "    input_messages_key=\"input\",\n",
    "    history_messages_key=\"chat_history\",\n",
    "    output_messages_key=\"answer\",\n",
    ")"
   ]
  },
  {
   "cell_type": "code",
   "execution_count": 14,
   "metadata": {},
   "outputs": [
    {
     "data": {
      "text/plain": [
       "'Task decomposition is the process of breaking down a complex task into smaller, more manageable sub-tasks or components. This approach allows for easier understanding and handling of the overall task by dividing it into smaller steps. Task decomposition is often used in project management and problem-solving to improve efficiency and facilitate better organization of work.'"
      ]
     },
     "execution_count": 14,
     "metadata": {},
     "output_type": "execute_result"
    }
   ],
   "source": [
    "conversational_rag_chain.invoke(\n",
    "    {\"input\": \"What is Task Decomposition?\"},\n",
    "    config={\n",
    "        \"configurable\": {\"session_id\": \"abc123\"}\n",
    "    },  # constructs a key \"abc123\" in `store`.\n",
    ")[\"answer\"]"
   ]
  },
  {
   "cell_type": "code",
   "execution_count": 18,
   "metadata": {},
   "outputs": [
    {
     "name": "stdout",
     "output_type": "stream",
     "text": [
      "{'abc123': InMemoryChatMessageHistory(messages=[HumanMessage(content='What is Task Decomposition?'), AIMessage(content='Task decomposition is the process of breaking down a complex task into smaller, more manageable sub-tasks or components. This approach allows for easier understanding and handling of the overall task by dividing it into smaller steps. Task decomposition is often used in project management and problem-solving to improve efficiency and facilitate better organization of work.'), HumanMessage(content='What are common ways of doing it?'), AIMessage(content='Common ways of task decomposition include creating a hierarchical structure of tasks, breaking down the task into sequential steps, identifying dependencies between sub-tasks, and assigning responsibilities for each sub-task to different team members. Additionally, using tools such as task lists, Gantt charts, or Kanban boards can help visually represent the decomposed tasks and track progress effectively.')])}\n"
     ]
    }
   ],
   "source": [
    "print(store)"
   ]
  },
  {
   "cell_type": "code",
   "execution_count": 17,
   "metadata": {},
   "outputs": [
    {
     "data": {
      "text/plain": [
       "'Common ways of task decomposition include creating a hierarchical structure of tasks, breaking down the task into sequential steps, identifying dependencies between sub-tasks, and assigning responsibilities for each sub-task to different team members. Additionally, using tools such as task lists, Gantt charts, or Kanban boards can help visually represent the decomposed tasks and track progress effectively.'"
      ]
     },
     "execution_count": 17,
     "metadata": {},
     "output_type": "execute_result"
    }
   ],
   "source": [
    "conversational_rag_chain.invoke(\n",
    "    {\"input\": \"What are common ways of doing it?\"},\n",
    "    config={\"configurable\": {\"session_id\": \"abc123\"}},\n",
    ")[\"answer\"]"
   ]
  },
  {
   "cell_type": "code",
   "execution_count": 19,
   "metadata": {},
   "outputs": [
    {
     "name": "stdout",
     "output_type": "stream",
     "text": [
      "User: What is Task Decomposition?\n",
      "\n",
      "AI: Task decomposition is the process of breaking down a complex task into smaller, more manageable sub-tasks or components. This approach allows for easier understanding and handling of the overall task by dividing it into smaller steps. Task decomposition is often used in project management and problem-solving to improve efficiency and facilitate better organization of work.\n",
      "\n",
      "User: What are common ways of doing it?\n",
      "\n",
      "AI: Common ways of task decomposition include creating a hierarchical structure of tasks, breaking down the task into sequential steps, identifying dependencies between sub-tasks, and assigning responsibilities for each sub-task to different team members. Additionally, using tools such as task lists, Gantt charts, or Kanban boards can help visually represent the decomposed tasks and track progress effectively.\n",
      "\n"
     ]
    }
   ],
   "source": [
    "from langchain_core.messages import AIMessage\n",
    "\n",
    "for message in store[\"abc123\"].messages:\n",
    "    if isinstance(message, AIMessage):\n",
    "        prefix = \"AI\"\n",
    "    else:\n",
    "        prefix = \"User\"\n",
    "\n",
    "    print(f\"{prefix}: {message.content}\\n\")"
   ]
  }
 ],
 "metadata": {
  "kernelspec": {
   "display_name": ".venv",
   "language": "python",
   "name": "python3"
  },
  "language_info": {
   "codemirror_mode": {
    "name": "ipython",
    "version": 3
   },
   "file_extension": ".py",
   "mimetype": "text/x-python",
   "name": "python",
   "nbconvert_exporter": "python",
   "pygments_lexer": "ipython3",
   "version": "3.12.3"
  }
 },
 "nbformat": 4,
 "nbformat_minor": 2
}
